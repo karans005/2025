{
  "nbformat": 4,
  "nbformat_minor": 0,
  "metadata": {
    "colab": {
      "provenance": [],
      "authorship_tag": "ABX9TyNdv3AIUwcU3jtG72z3lcvP",
      "include_colab_link": true
    },
    "kernelspec": {
      "name": "python3",
      "display_name": "Python 3"
    },
    "language_info": {
      "name": "python"
    }
  },
  "cells": [
    {
      "cell_type": "markdown",
      "metadata": {
        "id": "view-in-github",
        "colab_type": "text"
      },
      "source": [
        "<a href=\"https://colab.research.google.com/github/karans005/2025/blob/main/InClassAssignments.ipynb\" target=\"_parent\"><img src=\"https://colab.research.google.com/assets/colab-badge.svg\" alt=\"Open In Colab\"/></a>"
      ]
    },
    {
      "cell_type": "code",
      "execution_count": 2,
      "metadata": {
        "id": "CC9lbB4ByYy-",
        "colab": {
          "base_uri": "https://localhost:8080/"
        },
        "outputId": "0b33e809-93fa-4a40-c51c-f426fe6812d3"
      },
      "outputs": [
        {
          "output_type": "stream",
          "name": "stdout",
          "text": [
            "Please provide radius:5\n",
            "Please provide height of cylinder: 5\n",
            "Area of cylinder = 314.0 sq ft.\n"
          ]
        }
      ],
      "source": [
        "pi = 3.14\n",
        "radius = float(input('Please provide radius:'))\n",
        "height = float(input('Please provide height of cylinder: '))\n",
        "\n",
        "area = (2 * pi * (radius ** 2)) + (2 * pi * radius * height)\n",
        "print(f'Area of cylinder = {area} sq ft.')"
      ]
    },
    {
      "cell_type": "markdown",
      "source": [],
      "metadata": {
        "id": "7sZW8MW3Rjkl"
      }
    },
    {
      "cell_type": "markdown",
      "source": [
        "Please provide radius:5\n",
        "Please provide height of cylinder: 10\n",
        "Area of cylinder = 471.0 sq. ft"
      ],
      "metadata": {
        "id": "NJ-zy16M23YM"
      }
    },
    {
      "cell_type": "code",
      "source": [
        "n1 = float (input(\"Please enter a number 1: \"))\n",
        "n2 = float (input(\"Please enter a number 2: \"))\n",
        "op = input(\"Please enter the operation: \")\n",
        "\n",
        "if op == \"+\":\n",
        "  print (n1 + n2)\n",
        "elif op == \"-\":\n",
        "  print (n1 - n2)\n",
        "elif op == \"*\":\n",
        "  print (n1 * n2)\n",
        "elif op == \"/\":\n",
        "  print (n1 / n2)\n",
        "elif op == \"//\":\n",
        "  print (n1 // n2)\n",
        "elif op == \"**\":\n",
        "  print (n1 ** n2)\n",
        "elif op == \"%\":\n",
        "  print (n1 % n2)\n",
        "else:\n",
        "  print (\"Invalid operator!\")"
      ],
      "metadata": {
        "colab": {
          "base_uri": "https://localhost:8080/"
        },
        "id": "2sGL4uHdb3rE",
        "outputId": "3b7d4890-f4ee-4d3d-f791-ac9a1dd3f341"
      },
      "execution_count": 8,
      "outputs": [
        {
          "output_type": "stream",
          "name": "stdout",
          "text": [
            "Please enter a number 1: 4\n",
            "Please enter a number 2: 4\n",
            "Please enter the operation: **\n",
            "256.0\n"
          ]
        }
      ]
    },
    {
      "cell_type": "code",
      "source": [
        "for numberHours in range (1, 9):\n",
        "  fee = 5 + 2.5 * numberHours\n",
        "  if fee <= 10:\n",
        "    fee = 10.0\n",
        "  elif fee > 20:\n",
        "    fee = 20.0\n",
        "  print (numberHours, fee)"
      ],
      "metadata": {
        "colab": {
          "base_uri": "https://localhost:8080/"
        },
        "id": "mXuTJ30TJYIC",
        "outputId": "0afe0eb3-dee9-409e-d411-7611f68ae4cc"
      },
      "execution_count": null,
      "outputs": [
        {
          "output_type": "stream",
          "name": "stdout",
          "text": [
            "1 10.0\n",
            "2 10.0\n",
            "3 12.5\n",
            "4 15.0\n",
            "5 17.5\n",
            "6 20.0\n",
            "7 20.0\n",
            "8 20.0\n"
          ]
        }
      ]
    },
    {
      "cell_type": "code",
      "source": [
        "print(f'Ad$ Profit')\n",
        "\n",
        "init_attendees = 20\n",
        "fixed_cost = 200\n",
        "\n",
        "for advertising in range (0,201,25):\n",
        "  ad = float(advertising)\n",
        "  attendees = float(2*round(advertising**0.5) + init_attendees)\n",
        "  profit = float((attendees * 10) - advertising - fixed_cost)\n",
        "  print(f'{ad} ${profit}')"
      ],
      "metadata": {
        "colab": {
          "base_uri": "https://localhost:8080/"
        },
        "id": "E67ApY5NN8qf",
        "outputId": "994d61eb-bf66-4616-eaf5-2707afa2aa81"
      },
      "execution_count": 29,
      "outputs": [
        {
          "output_type": "stream",
          "name": "stdout",
          "text": [
            "Ad$ Profit\n",
            "0.0 $0.0\n",
            "25.0 $75.0\n",
            "50.0 $90.0\n",
            "75.0 $105.0\n",
            "100.0 $100.0\n",
            "125.0 $95.0\n",
            "150.0 $90.0\n",
            "175.0 $85.0\n",
            "200.0 $80.0\n"
          ]
        }
      ]
    },
    {
      "cell_type": "code",
      "source": [
        "play = input (\"Do you want to play the game (yes/no)? \")\n",
        "\n",
        "while play =='yes':\n",
        "  p1 = input('Player 1 - Choose between rock/paper/scissors: ')\n",
        "  p2 = input(\"Player 2 - Choose between rock/paper/scissors \")\n",
        "\n",
        "  if p1 == p2:\n",
        "    print('Draw')\n",
        "  elif p1 == 'rock' and p2 == 'scissors':\n",
        "    print('Player 1 wins')\n",
        "  elif p1 == 'scissors' and p2 == 'paper':\n",
        "    print('Player 1 wins')\n",
        "  elif p1 == 'paper' and p2 == 'rock':\n",
        "    print('Player 1 wins')\n",
        "  else:\n",
        "    print('Player 2 wins')\n",
        "\n",
        "  play = input (\"Do you want to play a new game (yes/no)? \")\n",
        "\n",
        "print: ('Good day!')\n"
      ],
      "metadata": {
        "colab": {
          "base_uri": "https://localhost:8080/"
        },
        "id": "AKB-nK614gmg",
        "outputId": "1322aa1c-cc5a-40a9-b389-80a107ebd957"
      },
      "execution_count": null,
      "outputs": [
        {
          "name": "stdout",
          "output_type": "stream",
          "text": [
            "Do you want to play the game (yes/no)? yes\n",
            "Player 1 - Choose between rock/paper/scissors: paper\n",
            "Player 2 - Choose between rock/paper/scissors scrisscors\n",
            "Player 2 wins\n",
            "Do you want to play a new game (yes/no)? no\n"
          ]
        }
      ]
    },
    {
      "cell_type": "code",
      "source": [
        "lst = []\n",
        "\n",
        "num = float(input('Give a number: '))\n",
        "\n",
        "while num != 0.0:\n",
        "  lst.append(num)\n",
        "  num = float(input('Give a number:'))\n",
        "lst.sort(reverse=True)\n",
        "print(lst)"
      ],
      "metadata": {
        "id": "h7w-KPQw_itO",
        "colab": {
          "base_uri": "https://localhost:8080/"
        },
        "outputId": "34824da4-124a-453a-9ebf-c4790188f593"
      },
      "execution_count": 12,
      "outputs": [
        {
          "output_type": "stream",
          "name": "stdout",
          "text": [
            "Give a number: 3\n",
            "Give a number:3\n",
            "Give a number:3\n",
            "Give a number:3\n",
            "Give a number:0\n",
            "[3.0, 3.0, 3.0, 3.0]\n"
          ]
        }
      ]
    },
    {
      "cell_type": "code",
      "source": [
        "months = {}\n",
        "\n",
        "names = [\"Jan\", \"Feb\", \"Mar\", \"Apr\", \"May\", \"Jun\", \"Jul\", \"Aug\", \"Sep\", \"Oct\", \"Nov\", \"Dec\"]\n",
        "numbers = [1,2,3,4,5,6,7,8,9,10,11,12]\n",
        "\n",
        "for idx in range(len(numbers)):\n",
        "  months[numbers[ida]] = names[idx]\n",
        "  months"
      ],
      "metadata": {
        "id": "uMluyth4i1Bc",
        "colab": {
          "base_uri": "https://localhost:8080/"
        },
        "outputId": "9e6b0ac2-0345-4750-f9d4-3e5816e07e96"
      },
      "execution_count": 14,
      "outputs": [
        {
          "output_type": "execute_result",
          "data": {
            "text/plain": [
              "{1: 'January',\n",
              " 2: 'February',\n",
              " 3: 'March',\n",
              " 4: 'April',\n",
              " 5: 'May',\n",
              " 6: 'June',\n",
              " 7: 'July',\n",
              " 8: 'August',\n",
              " 9: 'September',\n",
              " 10: 'October',\n",
              " 11: 'November',\n",
              " 12: 'December'}"
            ]
          },
          "metadata": {},
          "execution_count": 14
        }
      ]
    },
    {
      "cell_type": "code",
      "source": [
        "counts = {}\n",
        "\n",
        "while len(counts) < 5:\n",
        "  key = input('Give a string: ')\n",
        "\n",
        "  if key not in counts:\n",
        "    counts[key] = 1\n",
        "  else:\n",
        "    counts[key] = counts[key] + 1\n",
        "\n",
        "counts"
      ],
      "metadata": {
        "colab": {
          "base_uri": "https://localhost:8080/"
        },
        "id": "aPLKWcPhrO5q",
        "outputId": "ab0d8507-eacb-4f22-a7eb-66ee4c5eaf85"
      },
      "execution_count": null,
      "outputs": [
        {
          "name": "stdout",
          "output_type": "stream",
          "text": [
            "Give a string: a\n",
            "Give a string: b\n",
            "Give a string: c\n",
            "Give a string: d\n",
            "Give a string: a\n",
            "Give a string: a\n",
            "Give a string: a\n",
            "Give a string: d\n",
            "Give a string: b\n",
            "Give a string: c\n",
            "Give a string: d\n",
            "Give a string: s\n"
          ]
        },
        {
          "output_type": "execute_result",
          "data": {
            "text/plain": [
              "{'a': 4, 'b': 2, 'c': 2, 'd': 3, 's': 1}"
            ]
          },
          "metadata": {},
          "execution_count": 3
        }
      ]
    },
    {
      "cell_type": "code",
      "source": [
        "def calcFee(hours):\n",
        "  fee = 5 + 2.5 * hours\n",
        "  if fee <= 10:\n",
        "    fee = 10.0\n",
        "  elif fee > 20:\n",
        "    fee = 20.0\n",
        "  print (f'Fee: {fee}$')\n",
        "\n",
        "def main():\n",
        "  numHours = int(input('Enter number of hours: '))\n",
        "  calcFee(numHours)\n",
        "\n",
        "main()"
      ],
      "metadata": {
        "colab": {
          "base_uri": "https://localhost:8080/"
        },
        "id": "hLgbDUAIXUZc",
        "outputId": "135f949a-f71b-49dc-9ca4-f4eda14703a6"
      },
      "execution_count": null,
      "outputs": [
        {
          "output_type": "stream",
          "name": "stdout",
          "text": [
            "Enter number of hours: 5\n",
            "Fee: 17.5$\n"
          ]
        }
      ]
    },
    {
      "cell_type": "code",
      "source": [
        "def reverse(s):\n",
        "    if len(s) == 1:\n",
        "        return s\n",
        "    else:\n",
        "        return s[-1] + reverse(s[1:-1]) + s[0]\n",
        "        return reverse(s[1:]) + s[0]\n",
        "        return s[-1] + reverse(s[:-1])\n",
        "\n",
        "reverse('Hello')"
      ],
      "metadata": {
        "colab": {
          "base_uri": "https://localhost:8080/",
          "height": 35
        },
        "id": "EdNBRXZvUE9m",
        "outputId": "7e654af3-2714-4aa6-8750-c3c29cc7124e"
      },
      "execution_count": 18,
      "outputs": [
        {
          "output_type": "execute_result",
          "data": {
            "text/plain": [
              "'olleH'"
            ],
            "application/vnd.google.colaboratory.intrinsic+json": {
              "type": "string"
            }
          },
          "metadata": {},
          "execution_count": 18
        }
      ]
    },
    {
      "cell_type": "code",
      "source": [
        "def calcFee(hours):\n",
        "    assert hours >= 0, \"The number of hours should be non-negative...\"\n",
        "    fee = 5 + 2.5 * hours\n",
        "    if fee < 10:\n",
        "        fee = 10.0\n",
        "    elif fee > 20:\n",
        "        fee = 20.0\n",
        "    print(f'Fee: {fee}$')\n",
        "\n",
        "\n",
        "def main():\n",
        "    try:\n",
        "        numHours = int(input('Enter number of hours: '))\n",
        "        calcFee(numHours)\n",
        "    except ValueError:\n",
        "        print('Cannot cast to int().')\n",
        "\n",
        "if __name__ == \"__main__\":\n",
        "    main()\n",
        "\n",
        "def getValues(n):\n",
        "    L = []\n",
        "    for i in range(n):\n",
        "        weight = float(input('Enter weight: '))\n",
        "        L.append(weight)\n",
        "    return L\n",
        "\n",
        "\n",
        "def calcAverage(alist):\n",
        "    try:\n",
        "        print(f'The average weight is: {sum(alist[2:]) / len(alist[2:])}')\n",
        "    except ZeroDivisionError:\n",
        "        print(f'List {alist} is empty!')\n",
        "\n",
        "\n",
        "if __name__ == \"__main__\":\n",
        "    try:\n",
        "        n = int(input('Enter size of list: '))\n",
        "        alist = getValues(n)\n",
        "        calcAverage(alist)\n",
        "    except ValueError:\n",
        "        print('Input cannot be casted as an int()')"
      ],
      "metadata": {
        "colab": {
          "base_uri": "https://localhost:8080/"
        },
        "id": "e_NdOeBoURVz",
        "outputId": "40bf149c-68c6-4598-9b10-1a98e373fd50"
      },
      "execution_count": 19,
      "outputs": [
        {
          "output_type": "stream",
          "name": "stdout",
          "text": [
            "Enter number of hours: 3\n",
            "Fee: 12.5$\n",
            "Enter size of list: 3\n",
            "Enter weight: 20\n",
            "Enter weight: 22\n",
            "Enter weight: 2\n",
            "The average weight is: 2.0\n"
          ]
        }
      ]
    },
    {
      "cell_type": "code",
      "source": [
        "class Greeting:\n",
        "    def __init__(self, first, last):\n",
        "        self.first = first\n",
        "        self.last = last\n",
        "\n",
        "    def display(self, formal=False):\n",
        "        if formal:\n",
        "            print(f'Hi {self.first} {self.last}')\n",
        "        else:\n",
        "            print(f'Hi {self.first}')\n",
        "\n",
        "    def __str__(self):\n",
        "        return \"{}, {}\".format(self.first, self.last)\n",
        "        return f'{self.first}, {self.last}'\n",
        "        return str(self.first) + \", \" + str(self.last)\n",
        "\n",
        "greeting = Greeting('Donald', 'Becker')\n",
        "greeting2 = Greeting('Bob', 'Dylan')\n",
        "greeting.display(formal=True)\n",
        "print(greeting)\n",
        "print(greeting2)"
      ],
      "metadata": {
        "id": "zjqyB-NBJT_g",
        "colab": {
          "base_uri": "https://localhost:8080/"
        },
        "outputId": "725d98be-6b88-4b0f-f07d-071cc313e4b0"
      },
      "execution_count": 20,
      "outputs": [
        {
          "output_type": "stream",
          "name": "stdout",
          "text": [
            "Hi Donald Becker\n",
            "Donald, Becker\n",
            "Bob, Dylan\n"
          ]
        }
      ]
    },
    {
      "cell_type": "code",
      "source": [
        "class Student:\n",
        "  def __init__(self, name, number):\n",
        "    self.__name = name\n",
        "    self.number = number\n",
        "\n",
        "  def set_name(self, newName):\n",
        "    self.__name = newName\n",
        "\n",
        "  def get_name(self):\n",
        "    return self.__name\n",
        "\n",
        "  def __repr__(self):\n",
        "    return f'Name: {self.__name}'"
      ],
      "metadata": {
        "id": "5sCcFpmtNCFT"
      },
      "execution_count": 22,
      "outputs": []
    },
    {
      "cell_type": "code",
      "source": [
        "s1 = Student(\"john\", \"111\")\n",
        "s2 = Student(\"joe\", \"222\")"
      ],
      "metadata": {
        "id": "F9eGSsGTUkaX"
      },
      "execution_count": 23,
      "outputs": []
    },
    {
      "cell_type": "code",
      "source": [
        "s2.get_name()"
      ],
      "metadata": {
        "colab": {
          "base_uri": "https://localhost:8080/",
          "height": 35
        },
        "id": "gNJOPqPTUoV9",
        "outputId": "b71d3b48-31bc-4716-8573-a00a0897b4fb"
      },
      "execution_count": 24,
      "outputs": [
        {
          "output_type": "execute_result",
          "data": {
            "text/plain": [
              "'joe'"
            ],
            "application/vnd.google.colaboratory.intrinsic+json": {
              "type": "string"
            }
          },
          "metadata": {},
          "execution_count": 24
        }
      ]
    },
    {
      "cell_type": "code",
      "source": [
        "class Student:\n",
        "  def __init__(self, name, number):\n",
        "    self.__name = name\n",
        "    self.number = number\n",
        "    self.__courses = []\n",
        "\n",
        "  def enroll (self,newCourse):\n",
        "    if newCourse not in self.__courses:\n",
        "      self.__courses.append(newCourse)\n",
        "      print(f'Successfully enrolled in {newCourse}')\n",
        "    else:\n",
        "      print(f'You have already enrolled in {newCourse}')\n",
        "\n",
        "  def get_courses(self):\n",
        "    return self.__courses"
      ],
      "metadata": {
        "id": "Ua0-72Q_UuAw"
      },
      "execution_count": 25,
      "outputs": []
    },
    {
      "cell_type": "code",
      "source": [
        "s = Student('Karan', '12345')"
      ],
      "metadata": {
        "id": "rMG4Omt_UvLN"
      },
      "execution_count": 27,
      "outputs": []
    },
    {
      "cell_type": "code",
      "source": [
        "s.enroll('ABC444')"
      ],
      "metadata": {
        "colab": {
          "base_uri": "https://localhost:8080/"
        },
        "id": "yNNl3oSwUxWx",
        "outputId": "6eb515b7-71f0-4c04-b8ae-814b8eb1a812"
      },
      "execution_count": 28,
      "outputs": [
        {
          "output_type": "stream",
          "name": "stdout",
          "text": [
            "Successfully enrolled in ABC444\n"
          ]
        }
      ]
    }
  ]
}