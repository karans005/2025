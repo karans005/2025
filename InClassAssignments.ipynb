{
  "nbformat": 4,
  "nbformat_minor": 0,
  "metadata": {
    "colab": {
      "provenance": [],
      "authorship_tag": "ABX9TyNR0zaOuK+So78XPoOB0pU+",
      "include_colab_link": true
    },
    "kernelspec": {
      "name": "python3",
      "display_name": "Python 3"
    },
    "language_info": {
      "name": "python"
    }
  },
  "cells": [
    {
      "cell_type": "markdown",
      "metadata": {
        "id": "view-in-github",
        "colab_type": "text"
      },
      "source": [
        "<a href=\"https://colab.research.google.com/github/karans005/2025/blob/main/InClassAssignments.ipynb\" target=\"_parent\"><img src=\"https://colab.research.google.com/assets/colab-badge.svg\" alt=\"Open In Colab\"/></a>"
      ]
    },
    {
      "cell_type": "code",
      "execution_count": null,
      "metadata": {
        "id": "CC9lbB4ByYy-"
      },
      "outputs": [],
      "source": [
        "pi = 3.14\n",
        "radius = float(input('Please provide radius:'))\n",
        "height = float(input('Please provide height of cylinder: '))\n",
        "\n",
        "area = (2 * pi * (radius ** 2)) + (2 * pi * radius * height)\n",
        "print(f'Area of cylinder = {area} sq ft.')"
      ]
    },
    {
      "cell_type": "markdown",
      "source": [
        "Please provide radius:5\n",
        "Please provide height of cylinder: 10\n",
        "Area of cylinder = 471.0 sq. ft"
      ],
      "metadata": {
        "id": "NJ-zy16M23YM"
      }
    },
    {
      "cell_type": "code",
      "source": [
        "operation = input('Provide the Operation ( +, -, /, //, *, **, %): ')\n",
        "num1 = int(input('Please enter the first number'))\n",
        "num2 = int(input('Please enter the second number'))\n",
        "\n",
        "if operation == '+'\n",
        "  print(f'{n1} + {n2} = {n1 + n2}') 'num1 + num2'\n",
        "\n",
        "elif operation == '-'\n",
        "  result = 'num1 - num2'\n",
        "\n",
        "elif operation == '/'\n",
        "  result = 'num1 / num2'\n",
        "\n",
        "print(calculator)\n",
        "\n"
      ],
      "metadata": {
        "colab": {
          "base_uri": "https://localhost:8080/",
          "height": 108
        },
        "id": "2sGL4uHdb3rE",
        "outputId": "2d167373-39f3-44d4-e888-5e2c48be5a81"
      },
      "execution_count": null,
      "outputs": [
        {
          "output_type": "error",
          "ename": "SyntaxError",
          "evalue": "expected ':' (<ipython-input-2-ccfc0e49b83a>, line 5)",
          "traceback": [
            "\u001b[0;36m  File \u001b[0;32m\"<ipython-input-2-ccfc0e49b83a>\"\u001b[0;36m, line \u001b[0;32m5\u001b[0m\n\u001b[0;31m    if operation == '+'\u001b[0m\n\u001b[0m                       ^\u001b[0m\n\u001b[0;31mSyntaxError\u001b[0m\u001b[0;31m:\u001b[0m expected ':'\n"
          ]
        }
      ]
    }
  ]
}